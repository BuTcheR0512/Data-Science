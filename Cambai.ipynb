{
  "nbformat": 4,
  "nbformat_minor": 0,
  "metadata": {
    "colab": {
      "provenance": [],
      "authorship_tag": "ABX9TyNRG71BjqagH98qwpNXbcpY",
      "include_colab_link": true
    },
    "kernelspec": {
      "name": "python3",
      "display_name": "Python 3"
    },
    "language_info": {
      "name": "python"
    }
  },
  "cells": [
    {
      "cell_type": "markdown",
      "metadata": {
        "id": "view-in-github",
        "colab_type": "text"
      },
      "source": [
        "<a href=\"https://colab.research.google.com/github/BuTcheR0512/Data-Science/blob/main/Cambai.ipynb\" target=\"_parent\"><img src=\"https://colab.research.google.com/assets/colab-badge.svg\" alt=\"Open In Colab\"/></a>"
      ]
    },
    {
      "cell_type": "markdown",
      "source": [
        "# Installing the necessary Librarys"
      ],
      "metadata": {
        "id": "OLLSxr56vWPL"
      }
    },
    {
      "cell_type": "code",
      "execution_count": null,
      "metadata": {
        "id": "xePdvMI4iRtZ"
      },
      "outputs": [],
      "source": [
        "%pip install youtube_search\n",
        "%pip install pytube\n",
        "%pip install youtube_transcript_api\n",
        "%pip install pydub\n",
        "%pip install SpeechRecognition\n",
        "%pip install librosa\n",
        "!apt-get install ffmpeg"
      ]
    },
    {
      "cell_type": "markdown",
      "source": [
        "# Data Collection:\n",
        " Searching the Irish YouTube channel and Downloading the latest 2 videos from it.\n",
        "\n",
        " Extracting the audio and transcripts from the video."
      ],
      "metadata": {
        "id": "V37qH6pmvCz9"
      }
    },
    {
      "cell_type": "code",
      "source": [
        "from pytube import YouTube\n",
        "import os\n",
        "from youtube_search import YoutubeSearch\n",
        "from youtube_transcript_api import YouTubeTranscriptApi\n",
        "\n",
        "def search_and_download_irish_videos(query, output_path, max_results=10):\n",
        "    # Perform YouTube search using the query\n",
        "    results = YoutubeSearch(query, max_results=max_results).to_dict()\n",
        "\n",
        "    # Create folders for audio files and transcripts\n",
        "    audio_folder = os.path.join(output_path, \"audio\")\n",
        "    transcript_folder = os.path.join(output_path, \"transcripts\")\n",
        "    os.makedirs(audio_folder, exist_ok=True)\n",
        "    os.makedirs(transcript_folder, exist_ok=True)\n",
        "\n",
        "    # Iterate over search results\n",
        "    for video in results:\n",
        "        video_id = video['id']\n",
        "        video_title = video['title']\n",
        "\n",
        "        try:\n",
        "            # Download video\n",
        "            yt = YouTube(f'https://www.youtube.com/watch?v={video_id}')\n",
        "            stream = yt.streams.filter(file_extension='mp4').first()\n",
        "            video_file = stream.download(output_path=output_path, filename=f'{video_id}')\n",
        "            print(f\"Downloaded video: {video_title}\")\n",
        "\n",
        "            # Download audio\n",
        "            stream_audio = yt.streams.filter(only_audio=True).first()\n",
        "            audio_file = stream_audio.download(output_path=audio_folder, filename=f'{video_id}.wav')\n",
        "            print(f\"Downloaded audio: {video_title}\")\n",
        "\n",
        "            # Download transcript\n",
        "            transcript = YouTubeTranscriptApi.get_transcript(video_id)\n",
        "            transcript_text = ' '.join([line['text'] for line in transcript])\n",
        "            transcript_file = os.path.join(transcript_folder, f'{video_id}.txt')\n",
        "            with open(transcript_file, 'w', encoding='utf-8') as f:\n",
        "                f.write(transcript_text)\n",
        "            print(f\"Downloaded transcript: {video_title}\")\n",
        "\n",
        "        except Exception as e:\n",
        "            print(f\"Error downloading {video_title}: {e}\")\n",
        "\n",
        "# Example usage:\n",
        "query = \"Gaeilge i mo chroí\"\n",
        "output_path = \"/content/files\"\n",
        "search_and_download_irish_videos(query, output_path, max_results=2)\n"
      ],
      "metadata": {
        "colab": {
          "base_uri": "https://localhost:8080/"
        },
        "id": "D9CTOt-kiSTH",
        "outputId": "e17746c1-e3c4-4ae4-c6f2-4b84e1ba3cfb"
      },
      "execution_count": null,
      "outputs": [
        {
          "output_type": "stream",
          "name": "stdout",
          "text": [
            "Downloaded video: A casual conversation as Gaeilge with Gaeilge le Jane 🥰 💚 MUNSTER DIALECT, Gaeltacht Mhúscraí\n",
            "Downloaded audio: A casual conversation as Gaeilge with Gaeilge le Jane 🥰 💚 MUNSTER DIALECT, Gaeltacht Mhúscraí\n",
            "Downloaded transcript: A casual conversation as Gaeilge with Gaeilge le Jane 🥰 💚 MUNSTER DIALECT, Gaeltacht Mhúscraí\n",
            "Downloaded video: How to start speaking Irish | Gaeilge i Mo Chroí\n",
            "Downloaded audio: How to start speaking Irish | Gaeilge i Mo Chroí\n",
            "Downloaded transcript: How to start speaking Irish | Gaeilge i Mo Chroí\n"
          ]
        }
      ]
    },
    {
      "cell_type": "code",
      "source": [
        "# import os\n",
        "\n",
        "# # Set the path to your service account key file\n",
        "# os.environ[\"GOOGLE_APPLICATION_CREDENTIALS\"] = \"/content/potent-cedar-415705-417bcf87622a.json\""
      ],
      "metadata": {
        "id": "5gKsj7DojIrN"
      },
      "execution_count": null,
      "outputs": []
    },
    {
      "cell_type": "markdown",
      "source": [
        "# Data Preprocessing:\n",
        " Encoding the audio files."
      ],
      "metadata": {
        "id": "yg2uPTsbu8ud"
      }
    },
    {
      "cell_type": "code",
      "source": [
        "import os\n",
        "\n",
        "\n",
        "audio_folder = '/content/files/audio'\n",
        "\n",
        "\n",
        "output_folder = '/content/files/encoded audio'\n",
        "\n",
        "# Ensure the output folder exists\n",
        "os.makedirs(output_folder, exist_ok=True)\n",
        "\n",
        "# Iterate over each file in the audio folder\n",
        "for filename in os.listdir(audio_folder):\n",
        "    if filename.endswith('.wav'):\n",
        "        # Generate input and output file paths\n",
        "        input_file = os.path.join(audio_folder, filename)\n",
        "        output_file = os.path.join(output_folder, filename)\n",
        "\n",
        "        # Execute FFmpeg command to re-encode the audio file\n",
        "        !ffmpeg -i \"$input_file\" -c:a pcm_s16le \"$output_file\"\n"
      ],
      "metadata": {
        "id": "Aj2DyxKPluzp"
      },
      "execution_count": null,
      "outputs": []
    },
    {
      "cell_type": "markdown",
      "source": [
        "Auto align the audio and the transcript in a folder ."
      ],
      "metadata": {
        "id": "03_6D8_hyHae"
      }
    },
    {
      "cell_type": "code",
      "source": [
        "import os\n",
        "import shutil\n",
        "\n",
        "def align_audio_transcripts(audio_folder, transcript_folder, output_folder):\n",
        "    # Ensure output folder exists\n",
        "    os.makedirs(output_folder, exist_ok=True)\n",
        "\n",
        "    # Get list of audio files\n",
        "    audio_files = os.listdir(audio_folder)\n",
        "\n",
        "    # Iterate over audio files\n",
        "    for audio_file in audio_files:\n",
        "        # Construct paths for audio and transcript files\n",
        "        audio_path = os.path.join(audio_folder, audio_file)\n",
        "        transcript_file = os.path.splitext(audio_file)[0] + '.txt'\n",
        "        transcript_path = os.path.join(transcript_folder, transcript_file)\n",
        "\n",
        "        # Check if transcript file exists\n",
        "        if not os.path.exists(transcript_path):\n",
        "            print(f\"Transcript file not found for {audio_file}\")\n",
        "            continue\n",
        "\n",
        "        # Construct output paths\n",
        "        output_audio_path = os.path.join(output_folder, audio_file)\n",
        "        output_transcript_path = os.path.join(output_folder, transcript_file)\n",
        "\n",
        "        # Copy audio file to output folder\n",
        "        shutil.copy(audio_path, output_audio_path)\n",
        "\n",
        "        # Copy transcript file to output folder\n",
        "        shutil.copy(transcript_path, output_transcript_path)\n",
        "\n",
        "        print(f\"Aligned {audio_file} and {transcript_file} saved in {output_folder}\")\n",
        "\n",
        "# Specify input and output folders\n",
        "audio_folder = '/content/files/encoded audio'\n",
        "transcript_folder = '/content/files/transcripts'\n",
        "output_folder = '/content/files/aligned data'\n",
        "\n",
        "# Call function to align audio and transcripts\n",
        "align_audio_transcripts(audio_folder, transcript_folder, output_folder)\n"
      ],
      "metadata": {
        "colab": {
          "base_uri": "https://localhost:8080/"
        },
        "id": "G82jwJjRjQCo",
        "outputId": "652d810e-182c-407e-b9e4-9166827c54d9"
      },
      "execution_count": null,
      "outputs": [
        {
          "output_type": "stream",
          "name": "stdout",
          "text": [
            "Transcript file not found for .ipynb_checkpoints\n",
            "Aligned ViGAb66Nsdo.wav and ViGAb66Nsdo.txt saved in /content/files/aligned data\n",
            "Aligned zqWQz8rOk98.wav and zqWQz8rOk98.txt saved in /content/files/aligned data\n"
          ]
        }
      ]
    },
    {
      "cell_type": "markdown",
      "source": [
        "# Data Augmentation"
      ],
      "metadata": {
        "id": "t4QtN9CsPSJa"
      }
    },
    {
      "cell_type": "code",
      "source": [
        "from pydub import AudioSegment\n",
        "from pydub.effects import speedup\n",
        "import os\n",
        "\n",
        "def augment_audio(input_folder, output_folder):\n",
        "    # Create the output folder if it doesn't exist\n",
        "    os.makedirs(output_folder, exist_ok=True)\n",
        "\n",
        "    # Iterate over all files in the input folder\n",
        "    for filename in os.listdir(input_folder):\n",
        "        if filename.endswith(\".wav\"):\n",
        "            input_file = os.path.join(input_folder, filename)\n",
        "            output_file = os.path.join(output_folder, filename)\n",
        "\n",
        "            # Load the audio file\n",
        "            audio = AudioSegment.from_wav(input_file)\n",
        "\n",
        "            # Apply speedup effect to the audio\n",
        "            augmented_audio = speedup(audio, playback_speed=1.5)\n",
        "\n",
        "            # Export the augmented audio to a new file\n",
        "            augmented_audio.export(output_file, format=\"wav\")\n",
        "            print(f\"Augmented audio saved as: {output_file}\")\n",
        "\n",
        "# Specify input and output folders\n",
        "input_folder = \"/content/files/encoded audio\"\n",
        "output_folder = \"/content/files/augmented_audio\"\n",
        "\n",
        "# Augment audio files\n",
        "augment_audio(input_folder, output_folder)\n"
      ],
      "metadata": {
        "colab": {
          "base_uri": "https://localhost:8080/"
        },
        "id": "lcoUFmtzo1J4",
        "outputId": "38ac6be1-b4ba-4a68-a553-a384dd454cb3"
      },
      "execution_count": null,
      "outputs": [
        {
          "output_type": "stream",
          "name": "stdout",
          "text": [
            "Augmented audio saved as: /content/files/augmented_audio/ViGAb66Nsdo.wav\n",
            "Augmented audio saved as: /content/files/augmented_audio/zqWQz8rOk98.wav\n"
          ]
        }
      ]
    },
    {
      "cell_type": "markdown",
      "source": [
        "# Dataset Creation\n",
        "\n",
        "Run a frequency test to check if a speaker is male or female.(It may not be the prefect way but can be considered)"
      ],
      "metadata": {
        "id": "CN7D4jzGPVtR"
      }
    },
    {
      "cell_type": "code",
      "source": [
        "import librosa\n",
        "import numpy as np\n",
        "\n",
        "audio_file = \"/content/files/audio/ViGAb66Nsdo.wav\"\n",
        "y, sr = librosa.load(audio_file, sr=None)\n",
        "\n",
        "# Calculate the Fourier Transform\n",
        "fft = np.fft.fft(y)\n",
        "magnitude = np.abs(fft)\n",
        "frequency = np.fft.fftfreq(len(magnitude), 1/sr)\n",
        "\n",
        "\n",
        "dominant_frequency = frequency[np.argmax(magnitude)]\n",
        "\n",
        "\n",
        "speed_of_sound = 343  # in meters per second\n",
        "\n",
        "# Calculate wavelength\n",
        "wavelength = speed_of_sound / dominant_frequency\n",
        "\n",
        "print(\"Dominant Frequency:\", dominant_frequency, \"Hz\")\n",
        "print(\"Wavelength:\", wavelength, \"m\")\n",
        "\n"
      ],
      "metadata": {
        "colab": {
          "base_uri": "https://localhost:8080/"
        },
        "id": "Y6pGzyxTD-3-",
        "outputId": "e895e27e-efd5-482f-8d06-b7912a953336"
      },
      "execution_count": 2,
      "outputs": [
        {
          "output_type": "stream",
          "name": "stderr",
          "text": [
            "<ipython-input-2-673ceb3d37d3>:6: UserWarning: PySoundFile failed. Trying audioread instead.\n",
            "  y, sr = librosa.load(audio_file, sr=None)\n",
            "/usr/local/lib/python3.10/dist-packages/librosa/core/audio.py:183: FutureWarning: librosa.core.audio.__audioread_load\n",
            "\tDeprecated as of librosa version 0.10.0.\n",
            "\tIt will be removed in librosa version 1.0.\n",
            "  y, sr_native = __audioread_load(path, offset, duration, dtype)\n"
          ]
        },
        {
          "output_type": "stream",
          "name": "stdout",
          "text": [
            "Dominant Frequency: 45.097539144594506 Hz\n",
            "Wavelength: 7.605736510372601 m\n"
          ]
        }
      ]
    },
    {
      "cell_type": "code",
      "source": [],
      "metadata": {
        "id": "6YkgjMJSN0Ok"
      },
      "execution_count": null,
      "outputs": []
    }
  ]
}